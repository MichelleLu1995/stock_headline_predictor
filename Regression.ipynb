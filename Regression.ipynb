{
 "cells": [
  {
   "cell_type": "markdown",
   "metadata": {},
   "source": [
    "## Imports and Params"
   ]
  },
  {
   "cell_type": "code",
   "execution_count": 98,
   "metadata": {
    "collapsed": true
   },
   "outputs": [],
   "source": [
    "from newsapi import NewsApiClient\n",
    "from nytimesarticle import articleAPI\n",
    "import pandas_datareader.data as web\n",
    "import datetime\n",
    "import numpy as np\n",
    "import pandas as pd\n",
    "import matplotlib.pyplot as plt\n",
    "import dateutil\n",
    "import time\n",
    "import quandl\n",
    "from nltk.sentiment.vader import SentimentIntensityAnalyzer\n",
    "from pandas.plotting import autocorrelation_plot\n",
    "from pandas.tools.plotting import lag_plot\n",
    "from statsmodels.tsa.ar_model import AR\n",
    "from sklearn.model_selection import TimeSeriesSplit\n",
    "from sklearn.metrics import mean_squared_error, r2_score\n",
    "from sklearn.linear_model import LinearRegression\n",
    "from sklearn.model_selection import TimeSeriesSplit\n"
   ]
  },
  {
   "cell_type": "code",
   "execution_count": 146,
   "metadata": {
    "collapsed": true
   },
   "outputs": [],
   "source": [
    "# Params\n",
    "# extra API keys, comment out as necessary\n",
    "#api = articleAPI(\"b23351c6f9314694bfe4f4929a2b72c5\") \n",
    "#api = articleAPI(\"787bd4db8e704bbf9cebe8b7941827e0\") \n",
    "api = articleAPI(\"f8b402f42ed14b249fd5accc95a050dd\") \n",
    "#api = articleAPI(\"c91a676aeaef40fd844409c8b0bef485\")\n",
    "#api = articleAPI(\"c43133d654134109868299ff505e7c55\")\n",
    "#api = articleAPI(\"eb427ebc2336423ead4d350cfa4e900b\")\n",
    "#api = articleAPI(\"b538de93f1a9459da22b150d7b53cb6f\")\n",
    "#api = articleAPI(\"88f587ed149d4478b4490168d61ed9dc\")\n",
    "\n",
    "quandl.ApiConfig.api_key = \"2S7d7eeL5VZrLup9pKg5\"\n",
    "end_date = (datetime.datetime.now() - datetime.timedelta(days=3)).isoformat()\n",
    "start_date = (datetime.datetime.now() - datetime.timedelta(days=365)).isoformat()\n",
    "left_sources = 'The New York Times'\n",
    "right_sources = 'Fox News'\n",
    "center_sources = 'Reuters AP The Wall Street Journal'\n",
    "all_sources = left_sources + ' ' + right_sources + ' ' + center_sources\n",
    "replace_list = ['Corp', 'Inc.', 'Inc', '.com', 'plc', ',', 'Co.']\n",
    "# domain"
   ]
  },
  {
   "cell_type": "markdown",
   "metadata": {},
   "source": [
    "### Main\n",
    "\n",
    "1) Data Collection and save to CSV\n",
    "\n",
    "    a) Iterates through companies that we want to do.\n",
    "\n",
    "    b) Per each company, create a dataframe of 25 lagged values \n",
    "    \n",
    "    c) Query news articles and add the sentiment\n",
    "\n",
    "    c) Save the dataframe in a csv format for easier access\n",
    "\n",
    "2) Run cross-validation for both AR and ADL model. Per Fold:\n",
    "\n",
    "    a) Split into Train and Test Data\n",
    "\n",
    "    b) Find the correct lag so that it is stationary\n",
    "    \n",
    "    c) Set up dataframe using ideal lag amount (taking chunks of master)\n",
    "    \n",
    "    d) Predict Y and calculate MSE\n",
    "    \n",
    "    e) Return params for best model"
   ]
  },
  {
   "cell_type": "code",
   "execution_count": 169,
   "metadata": {
    "collapsed": true
   },
   "outputs": [],
   "source": [
    "def main():\n",
    "    # retrieve s&p 500 companies \n",
    "    df = pd.read_csv('constituents_csv.csv')\n",
    "    companies = df['Name']\n",
    "    company_symb = {}\n",
    "\n",
    "    # Iterate through companies\n",
    "    # for company in companies:\n",
    "    for i in range(89,90):\n",
    "\n",
    "        company = companies.loc[i]\n",
    "\n",
    "        # get company ticker\n",
    "        company_symb[company] = df[df['Name'] == company]['Symbol']\n",
    "        ticker = company_symb[company].values[0]\n",
    "        \n",
    "        # get rid of suffixes from company name\n",
    "        for word in replace_list:\n",
    "            company = company.replace(word, '')\n",
    "\n",
    "        # Read in data\n",
    "        company = 'Twitter'\n",
    "        ticker='TWTR'\n",
    "        print(ticker)\n",
    "        print(company)\n",
    "        df_master = read_in_stock_data(ticker, start_date, end_date)\n",
    "        \n",
    "        # Calculate 25 lags first\n",
    "        for i in range(25):\n",
    "            df_master['X_t-' + str(i+1)] = df_master['X_t'].shift(i+1)\n",
    "            \n",
    "        # Remove the ith data point because of shift\n",
    "        df_master = df_master.iloc[i+1:]\n",
    "        \n",
    "        ###### Add in sentiment values ######\n",
    "        \n",
    "        # Query news articles\n",
    "        trading_dates = df_master.index\n",
    "        dict_master = query_news_articles(company, start_date, end_date, trading_dates, sources=all_sources)\n",
    "        \n",
    "        # Add sentiment columns in dataframe\n",
    "        df_master['Pos_t-1'] = 0\n",
    "        df_master['Neu_t-1'] = 0\n",
    "        df_master['Neg_t-1'] = 0\n",
    "\n",
    "        # iterate through dates\n",
    "        for date in dict_master.keys():\n",
    "            # when you enter seniment into the dataframe, use the before date not after\n",
    "            average_sentiment_dict = calculate_sentiment(dict_master[date])\n",
    "\n",
    "            # Plug this into df\n",
    "            df_master.at[date,'Pos_t-1'] = average_sentiment_dict['pos']\n",
    "            df_master.at[date,'Neu_t-1'] = average_sentiment_dict['neu']\n",
    "            df_master.at[date,'Neg_t-1'] = average_sentiment_dict['neg']\n",
    "         \n",
    "         ###### Per Fold do cross validation ######\n",
    "#         MSE_list_AR, coef_list_AR = cross_validate_AR(df_master)   \n",
    "#         print('Mean Squared Error List:', MSE_list_AR)\n",
    "#         print('Coefficient list:',coef_list_AR)\n",
    "#         MSE_list_ADL, coef_list_ADL = cross_validate_ADL(df_master)\n",
    "#         print('Mean Squared Error List:', MSE_list_ADL)\n",
    "#         print('Coefficient list:',coef_list_ADL)\n",
    "        \n",
    "        df_master.to_csv('./data/'+ticker+'.csv')\n",
    "        return df_master\n"
   ]
  },
  {
   "cell_type": "code",
   "execution_count": 81,
   "metadata": {
    "collapsed": true
   },
   "outputs": [],
   "source": [
    "def main_read_in_csv(ticker):\n",
    "    df_master = pd.read_csv('./data/'+ticker+'.csv',index_col='Date')\n",
    "    \n",
    "    ###### Per Fold do cross validation ######\n",
    "    MSE_list_AR, coef_AR, intercept_AR, best_AR_train_index, best_AR_test_index = cross_validate_AR(df_master)   \n",
    "    print('Mean Squared Error List:', MSE_list_AR)\n",
    "    print('Best Coefficient',coef_AR)\n",
    "    print('Best Intercept', intercept_AR)\n",
    "    MSE_list_ADL, coef_ADL, intercept_ADL, best_ADL_train_index, best_ADL_test_index = cross_validate_ADL(df_master)\n",
    "    print('Mean Squared Error List:', MSE_list_ADL)\n",
    "    print('Best Coefficients:',coef_ADL)\n",
    "    print('Best Intercept', intercept_ADL)\n",
    "    \n",
    "    return MSE_list_AR, MSE_list_ADL, intercept_AR, intercept_ADL, coef_AR, coef_ADL,\\\n",
    "           best_AR_train_index, best_AR_test_index, best_ADL_train_index, best_ADL_test_index\n"
   ]
  },
  {
   "cell_type": "markdown",
   "metadata": {},
   "source": [
    "### Methods Used for Data Collection"
   ]
  },
  {
   "cell_type": "code",
   "execution_count": 227,
   "metadata": {
    "collapsed": true
   },
   "outputs": [],
   "source": [
    "def read_in_stock_data(ticker, start_date, end_date):\n",
    "    \"\"\" Initializes a data frame for a certain ticker\n",
    "    Params:\n",
    "        ticker (String): Stock ticker to be analyzed\n",
    "        start_date (String): Start date in format of \"2001-12-31\"\n",
    "        end_date (String): End date in format of \"2001-12-31\"\n",
    "        lag (int): Number of lag periods\n",
    "    Returns:\n",
    "        dataframe (pd.Dataframe): Dataframe with index 'Date' and column 'X_t'\n",
    "    \"\"\"\n",
    "    # Get the data in a dataframe\n",
    "    dataframe = web.DataReader(ticker, 'morningstar', start_date, end_date)['Close']\n",
    "    dataframe = pd.Series.to_frame(dataframe)\n",
    "    dataframe.reset_index(level=0, drop=True, inplace=True)\n",
    "    dataframe.columns = ['X_t']\n",
    "    return dataframe"
   ]
  },
  {
   "cell_type": "code",
   "execution_count": 260,
   "metadata": {
    "collapsed": true
   },
   "outputs": [],
   "source": [
    "def query_news_articles(company, start_date, end_date, trading_dates, sources, pred=False):\n",
    "    \"\"\" Queries news article for a certain time frame and split it by dates\n",
    "        Note that\n",
    "    Params:\n",
    "        company (String): Name of company\n",
    "        start_date (String): Start date in format of \"2001-12-31\"\n",
    "        end_date (String): End date in format of \"2001-12-31\"\n",
    "         trading_dates (Array of Strings): Array of dates when the market was open\n",
    "                 dates in format of \"2001-12-31\"\n",
    "        sources (Array of Strings): Array of different news sources\n",
    "        pred (Boolean): Whether we are querying for predictions or not\n",
    "    Returns:\n",
    "        company_dic (dictionary): keys are date, values are array of headlines\n",
    "    \"\"\"\n",
    "    company_dict = {k: [] for k in trading_dates.date}\n",
    "    start_date = int(start_date.replace(\"-\",\"\").split('T')[0])\n",
    "    ending_date = (dateutil.parser.parse(end_date)-datetime.timedelta(days=1)).isoformat()\n",
    "    end_date = int(ending_date.replace(\"-\",\"\").split('T')[0])\n",
    "    newsdata = api.search(q=company, begin_date = start_date,\n",
    "                           end_date = end_date,\n",
    "                          fq='headline:('+company+ ') OR body:('+company+') AND source:(' + sources + ')',\n",
    "                          page = 0,\n",
    "                          facet_filter = True)\n",
    "                               \n",
    "\n",
    "    #print(newsdata) # newsdata is full HTTP response\n",
    "    number_of_hits = newsdata['response']['meta']['hits']\n",
    "    number_of_pages = (number_of_hits // 10) + 1\n",
    "    \n",
    "    time.sleep(1)\n",
    "    # page through results and add headlines to companY_dict\n",
    "    for i in range(0, min(number_of_pages,100)):\n",
    "        print('page', i)\n",
    "        newsdata = api.search(q=company, begin_date = start_date,\n",
    "                           end_date = end_date,\n",
    "                          fq='headline:('+company+ ') OR body:('+company+') AND source:(' + sources + ')',\n",
    "                          page = i,\n",
    "                          facet_filter = True)\n",
    "        articles = newsdata['response']['docs']\n",
    "        for article in articles:\n",
    "            relevance = article['score']\n",
    "            if relevance >= 0.005 or pred: \n",
    "                headline = article['headline']['main']\n",
    "                blurb = article['snippet']\n",
    "                # print(article['pub_date'], '\\t', article['headline']['main'])\n",
    "            \n",
    "                # description = article['description']\n",
    "                # format of date is 2018-04-13T00:46:59Z (UTC format)\n",
    "                publish_date = article['pub_date'] \n",
    "                print(publish_date)\n",
    "                # adjust date for trading day\n",
    "                publish_date, publish_time = publish_date.split('T')\n",
    "                date_arr = publish_date.split('-')\n",
    "                publish_datetime = datetime.date(int(date_arr[0]), int(date_arr[1]), int(date_arr[2]))\n",
    "                time_arr = publish_time[:-1].split(':')\n",
    "                # stock market closes at 4:00 PM EST; if article published after \n",
    "                # 16:00:00+4:00:00 = 20:00:00 UTC headline affects next trading day;\n",
    "                # otherwise affects current trading day\n",
    "                trading_datetime = publish_datetime\n",
    "                if int(time_arr[0]) >= 20:\n",
    "                    trading_datetime += datetime.timedelta(days=1)\n",
    "                \n",
    "                # if given trading_date invalid (ie if article published on Friday \n",
    "                # after market close, Saturday, or Sunday before 4 pm est) push trading_date\n",
    "                # to the following Monday (ie first valid trading_date)\n",
    "                while trading_datetime not in trading_dates:\n",
    "                    trading_datetime += datetime.timedelta(1)\n",
    "                company_dict[trading_datetime].append(headline)\n",
    "                # company_dict[trading_datetime].append(blurb) include 'snippet' in sentiment analysis\n",
    "        time.sleep(1)\n",
    "        \n",
    "    return company_dict"
   ]
  },
  {
   "cell_type": "code",
   "execution_count": 259,
   "metadata": {
    "collapsed": true
   },
   "outputs": [],
   "source": [
    "def calculate_sentiment(sentence_arr):\n",
    "    \"\"\" Returns the average sentiment of the array\n",
    "    Params:\n",
    "        sentence_arr(Array): Array of setences that we have to calculate\n",
    "        the sentiment of.\n",
    "    Returns:\n",
    "        sentiment (dictionary): Takes the average of all sentences\n",
    "        format of score is {'neg': 0.0, 'neu': 1.0, 'pos': 0.0, 'compound': 0.0}\n",
    "    \"\"\"\n",
    "    sia = SentimentIntensityAnalyzer()\n",
    "    df = df = pd.DataFrame(columns=['neg','neu','pos','compound'])\n",
    "    for sentence in sentence_arr:\n",
    "        sentiment = sia.polarity_scores(sentence)\n",
    "        df_sentiment = pd.DataFrame([sentiment], columns=sentiment.keys())\n",
    "        df = df.append(df_sentiment)\n",
    "    \n",
    "    avg_sentiment = dict(df.mean())    \n",
    "    return avg_sentiment "
   ]
  },
  {
   "cell_type": "markdown",
   "metadata": {},
   "source": [
    "### Cross-Validation and Plots"
   ]
  },
  {
   "cell_type": "code",
   "execution_count": 263,
   "metadata": {
    "collapsed": true
   },
   "outputs": [],
   "source": [
    "def cross_validate_AR(df):\n",
    "    \"\"\" Runs the backtest with k fold cross validation for AR model\n",
    "    Params:\n",
    "        df (pd.Dataframe): Dataframe with X_t, lags, and sentiment score\n",
    "    Returns:\n",
    "        MSE_list (list): List of MSE per fold of cross-validation\n",
    "        coef_list (list): List of coef per fold of cross-validation\n",
    "        best_train_index (list): Indices of the train index with best MSE\n",
    "        best_test_index (list): Indicies of test index with best MSE\n",
    "    \"\"\"\n",
    "    tscv = TimeSeriesSplit(n_splits=8)\n",
    "    X = df.loc[:, df.columns !='X_t']\n",
    "    Y = df['X_t']\n",
    "    \n",
    "    MSE_list = []\n",
    "    coef_list = []\n",
    "        \n",
    "    for train_index, test_index in tscv.split(X):\n",
    "        X_train, X_test = X.iloc[train_index,:], X.iloc[test_index,:]\n",
    "        Y_train, Y_test = Y.iloc[train_index], Y[test_index]\n",
    "        \n",
    "        # find optimal lag period\n",
    "        lag = get_lag_period(Y_train)\n",
    "\n",
    "        # filter the lags and sentiment values\n",
    "        X_train = X_train.iloc[:,range(lag-1)]\n",
    "        X_test = X_test.iloc[:,range(lag-1)]\n",
    "\n",
    "        MSE, coef, intercept = fit_and_run_regression(X_train, Y_train, X_test, Y_test)\n",
    "        \n",
    "        # Check to see if this MSE is the best or not\n",
    "        if all(i >= MSE for i in MSE_list):\n",
    "            coef_best = coef\n",
    "            best_train_index = train_index\n",
    "            best_test_index = test_index\n",
    "        MSE_list.append(MSE)\n",
    "        \n",
    "    return MSE_list, coef_best, intercept, best_train_index, best_test_index\n"
   ]
  },
  {
   "cell_type": "code",
   "execution_count": 264,
   "metadata": {
    "collapsed": true
   },
   "outputs": [],
   "source": [
    "def cross_validate_ADL(df):\n",
    "    \"\"\" Runs the backtest with k fold cross validation for ADL model\n",
    "    Params:\n",
    "        df (pd.Dataframe): Dataframe with X_t, lags, and sentiment score\n",
    "    Returns:\n",
    "        MSE_list (list): List of MSE per fold of cross-validation\n",
    "        coef_best (list): List of coef per fold of cross-validation\n",
    "        best_train_index (list): Indices of the train index with best MSE\n",
    "        best_test_index (list): Indicies of test index with best MSE\n",
    "        \n",
    "    \"\"\"\n",
    "    tscv = TimeSeriesSplit(n_splits=8)\n",
    "    X = df.loc[:, df.columns !='X_t']\n",
    "    Y = df['X_t']\n",
    "    \n",
    "    MSE_list = []\n",
    "    coef_list = []\n",
    "        \n",
    "    for train_index, test_index in tscv.split(X):\n",
    "        X_train, X_test = X.iloc[train_index,:], X.iloc[test_index,:]\n",
    "        Y_train, Y_test = Y.iloc[train_index], Y[test_index]\n",
    "        \n",
    "        # find optimal lag period\n",
    "        lag = get_lag_period(Y_train)\n",
    "\n",
    "        # filter the lags and sentiment values\n",
    "        X_train = X_train.iloc[:,range(lag-1)]\n",
    "        X_test = X_test.iloc[:,range(lag-1)]\n",
    "        \n",
    "        # Add in the sentiment values\n",
    "        X_train['Pos_t-1'] = df.iloc[train_index,-3]\n",
    "        X_train['Neu_t-1'] = df.iloc[train_index,-2]\n",
    "        X_train['Neg_t-1'] = df.iloc[train_index,-1]\n",
    "        \n",
    "        X_test['Pos_t-1'] = df.iloc[test_index,-3]\n",
    "        X_test['Neu_t-1'] = df.iloc[test_index,-2]\n",
    "        X_test['Neg_t-1'] = df.iloc[test_index,-1]\n",
    "        \n",
    "        X_train = X_train.fillna(0)\n",
    "        X_test = X_test.fillna(0)\n",
    "\n",
    "        MSE, coef, intercept = fit_and_run_regression(X_train, Y_train, X_test, Y_test)\n",
    "        \n",
    "        # Check to see if this MSE is the best or not\n",
    "        if all(i >= MSE for i in MSE_list):\n",
    "            coef_best = coef\n",
    "            best_train_index = train_index\n",
    "            best_test_index = test_index\n",
    "        MSE_list.append(MSE)\n",
    "\n",
    "        \n",
    "    return MSE_list, coef_best, intercept, best_train_index, best_test_index\n"
   ]
  },
  {
   "cell_type": "code",
   "execution_count": 261,
   "metadata": {
    "collapsed": true
   },
   "outputs": [],
   "source": [
    "def fit_and_run_regression(X_train, Y_train, X_test, Y_test, doprint=False):\n",
    "    \"\"\" Fits the model with train and test data\n",
    "    Params:\n",
    "        X_train (pd.Dataframe): X training data\n",
    "        Y_train (pd.Dataframe): Y training data\n",
    "    Returns:\n",
    "        MSE (float): Mean Squared Error \n",
    "    \"\"\"\n",
    "    LinReg = LinearRegression(normalize=True)\n",
    "    LinReg.fit(X_train,Y_train)\n",
    "    Y_pred = LinReg.predict(X_test)\n",
    "    MSE = mean_squared_error(Y_test, Y_pred)\n",
    "    coefficients = LinReg.coef_\n",
    "    intercept = LinReg.intercept_\n",
    "    if doprint:\n",
    "        print(\"R^2 Value: %.2f\" %LinReg.score(X_test, Y_test))\n",
    "        print(\"Mean squared error: %.2f \"% MSE)\n",
    "        print(\"Coefficients for the Regression are: \" ,coefficients)\n",
    "    \n",
    "    return MSE, coefficients, intercept"
   ]
  },
  {
   "cell_type": "code",
   "execution_count": 285,
   "metadata": {},
   "outputs": [
    {
     "data": {
      "image/png": "[encoded data removed]",
      "text/plain": [
       "<Figure size 432x288 with 1 Axes>"
      ]
     },
     "metadata": {},
     "output_type": "display_data"
    },
    {
     "data": {
      "text/plain": [
       "12"
      ]
     },
     "execution_count": 285,
     "metadata": {},
     "output_type": "execute_result"
    }
   ],
   "source": [
    "# Example of autocorrelation plot\n",
    "df = pd.read_csv('./data/'+'GOOGL'+'.csv',index_col='Date')\n",
    "Y = df['X_t']\n",
    "train = Y[:100]\n",
    "\n",
    "get_lag_period(train, plot=True)"
   ]
  },
  {
   "cell_type": "code",
   "execution_count": 277,
   "metadata": {
    "collapsed": true
   },
   "outputs": [],
   "source": [
    "def get_lag_period(X_train, plot=False):\n",
    "    \"\"\" Finds the optimal lab period given a ticker and the start date and end date\n",
    "    Params:\n",
    "        X_train (df): Training data used to calculate lag back\n",
    "    Returns:\n",
    "        lag (int): Number of lag periods\n",
    "    \"\"\"\n",
    "    model = AR(X_train)\n",
    "    model_fit = model.fit()\n",
    "    lag = model_fit.k_ar\n",
    "    if plot:\n",
    "        autocorrelation_plot(X_train)\n",
    "        plt.title('Autocorrelation Plot')\n",
    "        plt.xlabel('Days')\n",
    "        plt.ylabel('Autocorrelation')\n",
    "        plt.show()\n",
    "    \n",
    "    return lag\n",
    "    "
   ]
  },
  {
   "cell_type": "code",
   "execution_count": 275,
   "metadata": {
    "collapsed": true
   },
   "outputs": [],
   "source": [
    "def plot_AR_model(ticker):\n",
    "    # Plot for AR model\n",
    "    df = pd.read_csv('./data/'+ticker+'.csv',index_col='Date')\n",
    "    X = df.loc[:, df.columns !='X_t']\n",
    "    Y = df['X_t']\n",
    "    X_train, X_test = X.iloc[best_AR_train_index,:], X.iloc[best_AR_test_index,:]\n",
    "    Y_train, Y_test = Y.iloc[best_AR_train_index], Y[best_AR_test_index]\n",
    "\n",
    "    # find optimal lag period\n",
    "    lag = get_lag_period(Y_train)\n",
    "\n",
    "    # filter the lags and sentiment values\n",
    "    X_train = X_train.iloc[:,range(lag-1)]\n",
    "    X_test = X_test.iloc[:,range(lag-1)]\n",
    "\n",
    "    # Fit the model\n",
    "    LinReg = LinearRegression(normalize=True)\n",
    "    LinReg.fit(X_train,Y_train)\n",
    "    Y_pred = LinReg.predict(X_test)\n",
    "\n",
    "    # Plot\n",
    "    Y_plot = Y_test.copy(deep=True)\n",
    "    Y_plot = Y_plot.to_frame()\n",
    "    Y_plot['Predicted'] = pd.Series(Y_pred, index=Y_plot.index)\n",
    "    Y_plot.columns = ['Actual', 'Predicted']\n",
    "\n",
    "    plt.figure(figsize=(10,10))\n",
    "    plt.title('Predicted Vs. Actual Plot AR model')\n",
    "    plt.xlabel('Date')\n",
    "    plt.ylabel('Price')\n",
    "    plt.plot(Y_plot.index, Y_plot['Actual'], label='Actual')\n",
    "    plt.plot(Y_plot.index, Y_plot['Predicted'],label='Predicted')\n",
    "    plt.legend()\n",
    "\n",
    "    plt.show()"
   ]
  },
  {
   "cell_type": "code",
   "execution_count": 266,
   "metadata": {
    "collapsed": true
   },
   "outputs": [],
   "source": [
    "def plot_ADL_model(ticker):\n",
    "    # Plot for ADL model\n",
    "    df = pd.read_csv('./data/'+ticker+'.csv',index_col='Date')\n",
    "    X = df.loc[:, df.columns !='X_t']\n",
    "    Y = df['X_t']\n",
    "    X_train, X_test = X.iloc[best_ADL_train_index,:], X.iloc[best_ADL_test_index,:]\n",
    "    Y_train, Y_test = Y.iloc[best_ADL_train_index], Y[best_ADL_test_index]\n",
    "\n",
    "    # find optimal lag period\n",
    "    lag = get_lag_period(Y_train)\n",
    "\n",
    "    # filter the lags and sentiment values\n",
    "    X_train = X_train.iloc[:,range(lag-1)]\n",
    "    X_test = X_test.iloc[:,range(lag-1)]\n",
    "\n",
    "    # Add in the sentiment values\n",
    "    X_train['Pos_t-1'] = df.iloc[best_ADL_train_index,-3]\n",
    "    X_train['Neu_t-1'] = df.iloc[best_ADL_train_index,-2]\n",
    "    X_train['Neg_t-1'] = df.iloc[best_ADL_train_index,-1]\n",
    "\n",
    "    X_test['Pos_t-1'] = df.iloc[best_ADL_test_index,-3]\n",
    "    X_test['Neu_t-1'] = df.iloc[best_ADL_test_index,-2]\n",
    "    X_test['Neg_t-1'] = df.iloc[best_ADL_test_index,-1]\n",
    "\n",
    "    X_train = X_train.fillna(0)\n",
    "    X_test = X_test.fillna(0)\n",
    "\n",
    "    # Fit the model\n",
    "    LinReg = LinearRegression(normalize=True)\n",
    "    LinReg.fit(X_train,Y_train)\n",
    "    Y_pred = LinReg.predict(X_test)\n",
    "\n",
    "    # Plot\n",
    "    Y_plot = Y_test.copy(deep=True)\n",
    "    Y_plot = Y_plot.to_frame()\n",
    "    Y_plot['Predicted'] = pd.Series(Y_pred, index=Y_plot.index)\n",
    "    Y_plot.columns = ['Actual', 'Predicted']\n",
    "\n",
    "    plt.figure(figsize=(10,10))\n",
    "    plt.title('Predicted Vs. Actual Plot ADL model')\n",
    "    plt.xlabel('Date')\n",
    "    plt.ylabel('Price')\n",
    "    plt.plot(Y_plot.index, Y_plot['Actual'], label='Actual')\n",
    "    plt.plot(Y_plot.index, Y_plot['Predicted'],label='Predicted')\n",
    "    plt.legend()\n",
    "\n",
    "    plt.show()\n"
   ]
  },
  {
   "cell_type": "markdown",
   "metadata": {
    "collapsed": true
   },
   "source": [
    "### Predict Next values"
   ]
  },
  {
   "cell_type": "code",
   "execution_count": 262,
   "metadata": {
    "collapsed": true
   },
   "outputs": [],
   "source": [
    "def predict_next_value(ticker, company, model, is_ADL):\n",
    "    \"\"\" Predicts the next value given a model and ticker\n",
    "    Params:\n",
    "        ticker (String): ticker of company trying to predict\n",
    "        model (sklearn.linear_model.LinearRegression): model used to predict the data\n",
    "        is_ADL (boolean): boolean to see if is ADL or not\n",
    "    Returns:\n",
    "        predicted_value (float): Predicted value\n",
    "    \"\"\"\n",
    "    # Read in however many lags\n",
    "    if is_ADL:\n",
    "        number_lags_back = len(model.coef_) - 3\n",
    "    else:\n",
    "        number_lags_back = len(model.coef_)\n",
    "    \n",
    "    # Read in 50 days back of data\n",
    "    pred_start = (datetime.datetime.now() - datetime.timedelta(days=50)).isoformat()\n",
    "    pred_end = datetime.datetime.now().isoformat()\n",
    "    dataframe = web.DataReader(ticker, 'morningstar', pred_start, pred_end)['Close']\n",
    "    dataframe = pd.Series.to_frame(dataframe)\n",
    "    dataframe.reset_index(level=0, drop=True, inplace=True)\n",
    "    dataframe.columns = ['X_t-1']\n",
    "    \n",
    "    # Add the lags\n",
    "    for i in range(number_lags_back-1):\n",
    "        dataframe['X_t-' + str(i+2)] = dataframe['X_t-1'].shift((i+1))\n",
    "        \n",
    "    # Add the sentiment values if ADL\n",
    "    if is_ADL:\n",
    "        dataframe['Pos_t-1'] = 0\n",
    "        dataframe['Neu_t-1'] = 0\n",
    "        dataframe['Neg_t-1'] = 0\n",
    "        trading_dates = dataframe.index\n",
    "        query_start = (datetime.datetime.now()-datetime.timedelta(days=3)).isoformat()\n",
    "        query_end = datetime.datetime.now().isoformat()\n",
    "        dict_master = query_news_articles(company, query_start, query_end, trading_dates, sources=all_sources, pred=True)\n",
    "        # iterate through dates\n",
    "        for date in dict_master.keys():\n",
    "            # when you enter seniment into the dataframe, use the before date not after\n",
    "            average_sentiment_dict = calculate_sentiment(dict_master[date])\n",
    "\n",
    "            # Plug this into df\n",
    "            dataframe.at[date,'Pos_t-1'] = average_sentiment_dict['pos']\n",
    "            dataframe.at[date,'Neu_t-1'] = average_sentiment_dict['neu']\n",
    "            dataframe.at[date,'Neg_t-1'] = average_sentiment_dict['neg']\n",
    "        # Fill with zeroes if no articles\n",
    "        dataframe = dataframe.fillna(0)\n",
    "            \n",
    "    # Predict the values    \n",
    "    predicted_value = model.predict(dataframe.tail(1).values.reshape(1, -1))[0]\n",
    "    \n",
    "    return predicted_value"
   ]
  },
  {
   "cell_type": "markdown",
   "metadata": {},
   "source": [
    "## Example Run of the cross-validation"
   ]
  },
  {
   "cell_type": "code",
   "execution_count": 286,
   "metadata": {},
   "outputs": [
    {
     "name": "stdout",
     "output_type": "stream",
     "text": [
      "Mean Squared Error List: [135.8090786772918, 85.10549468270999, 215.22958809099515, 106.07919500185841, 77.92562046094098, 541.3067608401769, 419.9921177541944, 296.7647701770797]\n",
      "Best Coefficient [ 1.01932722  0.06204896 -0.11772923 -0.02657555  0.08027982 -0.19298018\n",
      "  0.31099088 -0.25183626 -0.13013609  0.29860271 -0.00772419 -0.0565473 ]\n",
      "Best Intercept 15.096181541704937\n",
      "Mean Squared Error List: [155.53160464868026, 95.30313943340136, 200.2070784500564, 116.0588265720505, 84.26502006260934, 512.0442671735514, 423.7672113264665, 275.0277620761201]\n",
      "Best Coefficients: [ 1.01260636  0.07283727 -0.10007287 -0.03646564  0.07277541 -0.18772435\n",
      "  0.31952259 -0.25085964 -0.15798313  0.29499672  0.04030488 -0.09579483\n",
      "  8.49427212 -4.06292308  7.59026179]\n",
      "Best Intercept 16.93894694158587\n"
     ]
    },
    {
     "data": {
      "image/png": "[encoded data removed]",
      "text/plain": [
       "<Figure size 720x720 with 1 Axes>"
      ]
     },
     "metadata": {},
     "output_type": "display_data"
    },
    {
     "data": {
      "image/png": "[encoded data removed]",
      "text/plain": [
       "<Figure size 720x720 with 1 Axes>"
      ]
     },
     "metadata": {},
     "output_type": "display_data"
    }
   ],
   "source": [
    "# How to get everything for the website\n",
    "ticker = 'GOOGL'\n",
    "\n",
    "MSE_list_AR, MSE_list_ADL, intercept_AR, intercept_ADL, coef_AR, coef_ADL,\\\n",
    "           best_AR_train_index, best_AR_test_index, best_ADL_train_index, best_ADL_test_index = main_read_in_csv(ticker)\n",
    "model_ADL = LinearRegression(normalize=True)\n",
    "model_ADL.intercept_ = intercept_ADL\n",
    "model_ADL.coef_ = coef_ADL\n",
    "    \n",
    "model_AR = LinearRegression(normalize=True)\n",
    "model_AR.intercept_ = intercept_AR\n",
    "model_AR.coef_ = coef_AR\n",
    "\n",
    "plot_AR_model(ticker)\n",
    "plot_ADL_model(ticker)\n"
   ]
  },
  {
   "cell_type": "code",
   "execution_count": 247,
   "metadata": {},
   "outputs": [
    {
     "name": "stdout",
     "output_type": "stream",
     "text": [
      "page 0\n",
      "2018-05-08T22:11:52+0000\n",
      "2018-05-08T21:10:49+0000\n",
      "2018-05-08T07:01:44+0000\n",
      "2018-05-08T18:13:33+0000\n",
      "2018-05-08T13:37:34+0000\n",
      "2018-05-07T16:04:33+0000\n",
      "2018-05-08T08:37:32+0000\n",
      "2018-05-07T19:00:05+0000\n",
      "2018-05-07T22:48:22+0000\n",
      "2018-05-08T16:38:31+0000\n",
      "page 1\n",
      "2018-05-08T16:49:49+0000\n",
      "2018-05-08T16:25:44+0000\n",
      "2018-05-08T17:25:46+0000\n",
      "2018-05-07T07:01:41+0000\n",
      "2018-05-08T09:56:12+0000\n",
      "2018-05-07T09:50:35+0000\n",
      "2018-05-08T21:28:42+0000\n",
      "2018-05-08T10:34:36+0000\n",
      "2018-05-08T20:43:45+0000\n",
      "2018-05-08T21:56:51+0000\n",
      "page 2\n",
      "2018-05-08T18:22:32+0000\n",
      "2018-05-08T15:15:51+0000\n",
      "2018-05-08T10:04:42+0000\n",
      "2018-05-07T15:31:38+0000\n",
      "2018-05-08T22:50:10+0000\n",
      "2018-05-08T05:00:04+0000\n",
      "2018-05-07T20:19:35+0000\n",
      "2018-05-07T23:44:11+0000\n",
      "2018-05-08T10:34:34+0000\n",
      "2018-05-08T06:45:06+0000\n",
      "page 3\n",
      "2018-05-07T23:45:18+0000\n",
      "2018-05-07T20:31:25+0000\n",
      "2018-05-07T03:53:29+0000\n",
      "2018-05-07T12:34:42+0000\n",
      "2018-05-08T09:00:12+0000\n",
      "2018-05-07T12:00:23+0000\n",
      "Predicted Value for AR Model: 1101.23\n",
      "Predicted Value for ADL Model: 1097.30\n"
     ]
    }
   ],
   "source": [
    "pred_value_AR = predict_next_value('GOOGL','Google',model_AR, is_ADL=False)\n",
    "pred_value_ADL = predict_next_value('GOOGL','Google',model_ADL, is_ADL=True)\n",
    "print('Predicted Value for AR Model: %.2f' %pred_value_AR)\n",
    "print('Predicted Value for ADL Model: %.2f' %pred_value_ADL)"
   ]
  },
  {
   "cell_type": "code",
   "execution_count": null,
   "metadata": {
    "collapsed": true
   },
   "outputs": [],
   "source": []
  },
  {
   "cell_type": "code",
   "execution_count": null,
   "metadata": {
    "collapsed": true
   },
   "outputs": [],
   "source": []
  }
 ],
 "metadata": {
  "kernelspec": {
   "display_name": "Python [anaconda]",
   "language": "python",
   "name": "Python [anaconda]"
  },
  "language_info": {
   "codemirror_mode": {
    "name": "ipython",
    "version": 3
   },
   "file_extension": ".py",
   "mimetype": "text/x-python",
   "name": "python",
   "nbconvert_exporter": "python",
   "pygments_lexer": "ipython3",
   "version": "3.5.5"
  }
 },
 "nbformat": 4,
 "nbformat_minor": 2
}
